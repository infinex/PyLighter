{
 "cells": [
  {
   "cell_type": "markdown",
   "metadata": {},
   "source": [
    "# Using PyLighter for NER annotations"
   ]
  },
  {
   "cell_type": "markdown",
   "metadata": {},
   "source": [
    "This notebook is a step by step guide for getting started with PyLighter !\n",
    "\n",
    "Before getting started, the task for this example is to annotate verbs, persons, organisations and localities. For this use, let's define the following dataset:"
   ]
  },
  {
   "cell_type": "markdown",
   "metadata": {},
   "source": [
    "## Defining the corpus"
   ]
  },
  {
   "cell_type": "code",
   "execution_count": 10,
   "metadata": {},
   "outputs": [],
   "source": [
    "# Defining the corpus of documents to use throughout this notebook\n",
    "corpus = [\n",
    "     \"PyLighter is an annotation tool for NER tasks directly on Jupyter. \" \n",
    "    + \"It aims on helping data scientists easily and quickly annotate datasets. \"\n",
    "    + \"This tool was developed by Paylead.\",\n",
    "    \"PayLead is a fintech company specializing in transaction data analysis. \"\n",
    "    + \"Paylead brings retail and banking together, so customers get rewarded when they buy. \" \n",
    "    + \"Welcome to the data-for-value economy.\"\n",
    "]\n",
    "\n",
    "## Start annotating\n",
    "\n",
    "# Import pylighter annotation tool !\n",
    "from pylighter import Annotation\n",
    "\n",
    "# Start annotating !\n",
    "#Annotation(corpus)"
   ]
  },
  {
   "cell_type": "markdown",
   "metadata": {},
   "source": [
    "## Changing the labels"
   ]
  },
  {
   "cell_type": "markdown",
   "metadata": {},
   "source": [
    "There is a wide variety of NER tasks, so by default the possible labels are _l1_, _l2_, etc. \n",
    "You could remember that _l1_ is equivalent to the label _verb_, _l2_ to _person_ and so on. However, it is possible to change the names of labels, just like this:"
   ]
  },
  {
   "cell_type": "code",
   "execution_count": 13,
   "metadata": {},
   "outputs": [
    {
     "data": {
      "application/vnd.jupyter.widget-view+json": {
       "model_id": "7c47b4c800d84044aa2b9477cdf18396",
       "version_major": 2,
       "version_minor": 0
      },
      "text/plain": [
       "HBox(children=(HTML(value=\"<p id='shortcut-display'>Press the keyboard keys for the shortcut you want to use !…"
      ]
     },
     "metadata": {},
     "output_type": "display_data"
    },
    {
     "data": {
      "application/vnd.jupyter.widget-view+json": {
       "model_id": "b0babb5a69524403ada0881108e29581",
       "version_major": 2,
       "version_minor": 0
      },
      "text/plain": [
       "HBox(children=(Button(button_style='danger', description='Stop', style=ButtonStyle(), _dom_classes=('stop_shor…"
      ]
     },
     "metadata": {},
     "output_type": "display_data"
    },
    {
     "data": {
      "application/javascript": [
       "function logKey(e) {    /* Show shortcut */    let visible_space = document.getElementById(\"shortcut-display\");    let text_to_display = \"key:&nbsp;<b>\" + e.key + \"</b>&nbsp;&nbsp;&nbsp;&nbsp;\";    text_to_display += \"code:&nbsp;<b>\" + e.code + \"</b>&nbsp;&nbsp;&nbsp;&nbsp;\";    text_to_display += \"shiftKey:&nbsp;<b>\" + e.shiftKey + \"</b>&nbsp;&nbsp;&nbsp;&nbsp;\";    text_to_display += \"ctrlKey:&nbsp;<b>\" + e.ctrlKey + \"</b>&nbsp;&nbsp;&nbsp;&nbsp;\";    text_to_display += \"altKey:&nbsp;<b>\" + e.altKey + \"</b>\";    visible_space.innerHTML = text_to_display;    /* Hide shortcut in hidden state in python format for copy */    let hidden_space = document.getElementById(\"hidden-shortcut\");    let shiftKey = \"False\";    let ctrlKey = \"False\";    let altKey = \"False\";    if (e.shiftKey) {        shiftKey = \"True\";    }    if (e.ctrlKey) {        ctrlKey = \"True\";    }    if (e.altKey) {        altKey = \"True\";    }    let hidden_text = \"{\\\"key\\\":\\\"\" + e.key + \"\\\",\";    hidden_text += \" \\\"code\\\":\\\"\" + e.code + \"\\\",\";    hidden_text += \" \\\"shift_key\\\":\" + shiftKey + \",\";    hidden_text += \" \\\"ctrl_key\\\":\" + ctrlKey + \",\";    hidden_text += \" \\\"alt_key\\\":\" + altKey + \"}\";    hidden_space.innerHTML = hidden_text;}function stopListener() {    window.removeEventListener('keydown', logKey);}function copyToClipboard() {    let hidden_space = document.querySelector(\"#hidden-shortcut\");    let range = document.createRange();    let selection = window.getSelection();    hidden_space.style.display = \"block\";    range.selectNode(hidden_space);    selection.removeAllRanges();    selection.addRange(range);    document.execCommand(\"copy\");    hidden_space.style.display = \"none\";}function startListener() {    try {        stopListener();    } catch (err) {        console.log(err);    } finally {        window.addEventListener('keydown', logKey);    }}document.getElementsByClassName(\"stop_shortcut_button_class\")[0].addEventListener(\"click\", stopListener);document.getElementsByClassName(\"copy_shortcut_button_class\")[0].addEventListener(\"click\", copyToClipboard);document.getElementsByClassName(\"start_shortcut_button_class\")[0].addEventListener(\"click\", startListener);startListener();"
      ],
      "text/plain": [
       "<IPython.core.display.Javascript object>"
      ]
     },
     "metadata": {},
     "output_type": "display_data"
    },
    {
     "data": {
      "text/plain": [
       "<pylighter.shortcut_helper.shortcut_helper.ShortcutHelper at 0x7f221c0c9f10>"
      ]
     },
     "execution_count": 13,
     "metadata": {},
     "output_type": "execute_result"
    }
   ],
   "source": [
    "from pylighter import ShortcutHelper\n",
    "\n",
    "ShortcutHelper()"
   ]
  },
  {
   "cell_type": "code",
   "execution_count": 11,
   "metadata": {},
   "outputs": [],
   "source": [
    "labels_names = [\"Verb\", \"Person\", \"Org\", \"Loc\"]"
   ]
  },
  {
   "cell_type": "code",
   "execution_count": 12,
   "metadata": {},
   "outputs": [
    {
     "data": {
      "application/vnd.jupyter.widget-view+json": {
       "model_id": "e59700d43b154e5ca5390889fc22f117",
       "version_major": 2,
       "version_minor": 0
      },
      "text/plain": [
       "Output(outputs=({'output_type': 'display_data', 'data': {'text/plain': \"HTML(value='<style>    @import url(\\\\'…"
      ]
     },
     "metadata": {},
     "output_type": "display_data"
    }
   ],
   "source": [
    "annotation = Annotation(corpus, labels_names=labels_names)"
   ]
  },
  {
   "cell_type": "markdown",
   "metadata": {},
   "source": [
    "Now you can correctly annotate the corpus !"
   ]
  },
  {
   "cell_type": "markdown",
   "metadata": {},
   "source": [
    "## Retrieving the results"
   ]
  },
  {
   "cell_type": "markdown",
   "metadata": {},
   "source": [
    "At that point, you should have finished your annotation but you may wonder how to get your annotations. There is two ways:\n",
    "- Clicking on the save button\n",
    "- Accessing the labelise corpus directly"
   ]
  },
  {
   "cell_type": "markdown",
   "metadata": {},
   "source": [
    "### Using the save button"
   ]
  },
  {
   "cell_type": "markdown",
   "metadata": {},
   "source": [
    "When clicking on the save button, your annotations will be save in the file _annotation.csv_. It will also automatically save when you finished annotating all the corpus.\n",
    "\n",
    "The csv file will have two columns, the first one is each element of the corpus, the second one is the annotation of the corpus charachter by charachter in IOB2 format.\n",
    "\n",
    "Note: It is possible to change the path to the save file."
   ]
  },
  {
   "cell_type": "code",
   "execution_count": 4,
   "metadata": {},
   "outputs": [],
   "source": [
    "path_to_save_file = \"annotation.csv\" # Which is the default one"
   ]
  },
  {
   "cell_type": "code",
   "execution_count": 5,
   "metadata": {},
   "outputs": [
    {
     "data": {
      "application/vnd.jupyter.widget-view+json": {
       "model_id": "e59700d43b154e5ca5390889fc22f117",
       "version_major": 2,
       "version_minor": 0
      },
      "text/plain": [
       "Output(outputs=({'output_type': 'display_data', 'data': {'text/plain': \"HTML(value='Good job, you annotated <b…"
      ]
     },
     "metadata": {},
     "output_type": "display_data"
    },
    {
     "data": {
      "text/plain": [
       "<pylighter.annotation.Annotation at 0x7f221eae6990>"
      ]
     },
     "execution_count": 5,
     "metadata": {},
     "output_type": "execute_result"
    }
   ],
   "source": [
    "Annotation(\n",
    "    corpus,\n",
    "    labels_names=labels_names,\n",
    "    save_path=path_to_save_file\n",
    ")"
   ]
  },
  {
   "cell_type": "markdown",
   "metadata": {},
   "source": [
    "You can now read access the elements in that file this:"
   ]
  },
  {
   "cell_type": "code",
   "execution_count": 6,
   "metadata": {},
   "outputs": [
    {
     "data": {
      "text/html": [
       "<div>\n",
       "<style scoped>\n",
       "    .dataframe tbody tr th:only-of-type {\n",
       "        vertical-align: middle;\n",
       "    }\n",
       "\n",
       "    .dataframe tbody tr th {\n",
       "        vertical-align: top;\n",
       "    }\n",
       "\n",
       "    .dataframe thead th {\n",
       "        text-align: right;\n",
       "    }\n",
       "</style>\n",
       "<table border=\"1\" class=\"dataframe\">\n",
       "  <thead>\n",
       "    <tr style=\"text-align: right;\">\n",
       "      <th></th>\n",
       "      <th>document</th>\n",
       "      <th>labels</th>\n",
       "    </tr>\n",
       "  </thead>\n",
       "  <tbody>\n",
       "    <tr>\n",
       "      <th>0</th>\n",
       "      <td>PyLighter is an annotation tool for NER tasks ...</td>\n",
       "      <td>['O', 'O', 'O', 'O', 'O', 'O', 'O', 'O', 'O', ...</td>\n",
       "    </tr>\n",
       "    <tr>\n",
       "      <th>1</th>\n",
       "      <td>PayLead is a fintech company specializing in t...</td>\n",
       "      <td>['O', 'O', 'O', 'O', 'O', 'O', 'O', 'O', 'O', ...</td>\n",
       "    </tr>\n",
       "  </tbody>\n",
       "</table>\n",
       "</div>"
      ],
      "text/plain": [
       "                                            document  \\\n",
       "0  PyLighter is an annotation tool for NER tasks ...   \n",
       "1  PayLead is a fintech company specializing in t...   \n",
       "\n",
       "                                              labels  \n",
       "0  ['O', 'O', 'O', 'O', 'O', 'O', 'O', 'O', 'O', ...  \n",
       "1  ['O', 'O', 'O', 'O', 'O', 'O', 'O', 'O', 'O', ...  "
      ]
     },
     "execution_count": 6,
     "metadata": {},
     "output_type": "execute_result"
    }
   ],
   "source": [
    "import pandas as pd\n",
    "pd.read_csv(path_to_save_file, sep=\";\")"
   ]
  },
  {
   "cell_type": "markdown",
   "metadata": {},
   "source": [
    "### Direct access to the annotations"
   ]
  },
  {
   "cell_type": "markdown",
   "metadata": {},
   "source": [
    "If you access annotation.labels, you should see the labels of your annotations. You can then do whatever you want with it."
   ]
  },
  {
   "cell_type": "code",
   "execution_count": 7,
   "metadata": {},
   "outputs": [],
   "source": [
    "my_annotation = annotation.labels"
   ]
  },
  {
   "cell_type": "code",
   "execution_count": 8,
   "metadata": {},
   "outputs": [
    {
     "data": {
      "text/plain": [
       "[['O',\n",
       "  'O',\n",
       "  'O',\n",
       "  'O',\n",
       "  'O',\n",
       "  'O',\n",
       "  'O',\n",
       "  'O',\n",
       "  'O',\n",
       "  'O',\n",
       "  'O',\n",
       "  'O',\n",
       "  'O',\n",
       "  'O',\n",
       "  'O',\n",
       "  'O',\n",
       "  'O',\n",
       "  'O',\n",
       "  'O',\n",
       "  'O',\n",
       "  'O',\n",
       "  'O',\n",
       "  'O',\n",
       "  'O',\n",
       "  'O',\n",
       "  'O',\n",
       "  'O',\n",
       "  'O',\n",
       "  'O',\n",
       "  'O',\n",
       "  'O',\n",
       "  'O',\n",
       "  'O',\n",
       "  'O',\n",
       "  'O',\n",
       "  'O',\n",
       "  'O',\n",
       "  'O',\n",
       "  'O',\n",
       "  'O',\n",
       "  'O',\n",
       "  'O',\n",
       "  'O',\n",
       "  'O',\n",
       "  'O',\n",
       "  'O',\n",
       "  'O',\n",
       "  'O',\n",
       "  'O',\n",
       "  'O',\n",
       "  'O',\n",
       "  'O',\n",
       "  'O',\n",
       "  'O',\n",
       "  'O',\n",
       "  'O',\n",
       "  'O',\n",
       "  'O',\n",
       "  'O',\n",
       "  'O',\n",
       "  'O',\n",
       "  'O',\n",
       "  'O',\n",
       "  'O',\n",
       "  'O',\n",
       "  'O',\n",
       "  'O',\n",
       "  'O',\n",
       "  'O',\n",
       "  'O',\n",
       "  'O',\n",
       "  'O',\n",
       "  'O',\n",
       "  'O',\n",
       "  'O',\n",
       "  'O',\n",
       "  'O',\n",
       "  'O',\n",
       "  'O',\n",
       "  'O',\n",
       "  'O',\n",
       "  'O',\n",
       "  'O',\n",
       "  'O',\n",
       "  'O',\n",
       "  'O',\n",
       "  'O',\n",
       "  'O',\n",
       "  'O',\n",
       "  'O',\n",
       "  'O',\n",
       "  'O',\n",
       "  'O',\n",
       "  'O',\n",
       "  'O',\n",
       "  'O',\n",
       "  'O',\n",
       "  'O',\n",
       "  'O',\n",
       "  'O',\n",
       "  'O',\n",
       "  'O',\n",
       "  'O',\n",
       "  'O',\n",
       "  'O',\n",
       "  'O',\n",
       "  'O',\n",
       "  'O',\n",
       "  'O',\n",
       "  'O',\n",
       "  'O',\n",
       "  'O',\n",
       "  'O',\n",
       "  'O',\n",
       "  'O',\n",
       "  'O',\n",
       "  'O',\n",
       "  'O',\n",
       "  'O',\n",
       "  'O',\n",
       "  'O',\n",
       "  'O',\n",
       "  'O',\n",
       "  'O',\n",
       "  'O',\n",
       "  'O',\n",
       "  'O',\n",
       "  'O',\n",
       "  'O',\n",
       "  'O',\n",
       "  'O',\n",
       "  'O',\n",
       "  'O',\n",
       "  'O',\n",
       "  'B-Verb',\n",
       "  'I-Verb',\n",
       "  'I-Verb',\n",
       "  'I-Verb',\n",
       "  'I-Verb',\n",
       "  'I-Verb',\n",
       "  'I-Verb',\n",
       "  'I-Verb',\n",
       "  'I-Verb',\n",
       "  'I-Verb',\n",
       "  'I-Verb',\n",
       "  'O',\n",
       "  'O',\n",
       "  'O',\n",
       "  'O',\n",
       "  'O',\n",
       "  'O',\n",
       "  'O',\n",
       "  'O',\n",
       "  'O',\n",
       "  'O',\n",
       "  'O',\n",
       "  'O',\n",
       "  'O',\n",
       "  'O',\n",
       "  'O',\n",
       "  'O',\n",
       "  'O',\n",
       "  'O',\n",
       "  'O',\n",
       "  'O',\n",
       "  'O',\n",
       "  'O',\n",
       "  'O',\n",
       "  'O',\n",
       "  'O',\n",
       "  'O',\n",
       "  'O',\n",
       "  'O',\n",
       "  'O',\n",
       "  'O'],\n",
       " ['O',\n",
       "  'O',\n",
       "  'O',\n",
       "  'O',\n",
       "  'O',\n",
       "  'O',\n",
       "  'O',\n",
       "  'O',\n",
       "  'O',\n",
       "  'O',\n",
       "  'O',\n",
       "  'O',\n",
       "  'O',\n",
       "  'O',\n",
       "  'O',\n",
       "  'O',\n",
       "  'O',\n",
       "  'O',\n",
       "  'O',\n",
       "  'O',\n",
       "  'O',\n",
       "  'O',\n",
       "  'O',\n",
       "  'O',\n",
       "  'O',\n",
       "  'O',\n",
       "  'O',\n",
       "  'O',\n",
       "  'O',\n",
       "  'O',\n",
       "  'O',\n",
       "  'O',\n",
       "  'O',\n",
       "  'O',\n",
       "  'O',\n",
       "  'O',\n",
       "  'O',\n",
       "  'O',\n",
       "  'O',\n",
       "  'O',\n",
       "  'O',\n",
       "  'O',\n",
       "  'O',\n",
       "  'O',\n",
       "  'O',\n",
       "  'O',\n",
       "  'O',\n",
       "  'O',\n",
       "  'O',\n",
       "  'O',\n",
       "  'O',\n",
       "  'O',\n",
       "  'O',\n",
       "  'O',\n",
       "  'O',\n",
       "  'O',\n",
       "  'O',\n",
       "  'O',\n",
       "  'O',\n",
       "  'O',\n",
       "  'O',\n",
       "  'O',\n",
       "  'O',\n",
       "  'O',\n",
       "  'O',\n",
       "  'O',\n",
       "  'O',\n",
       "  'O',\n",
       "  'O',\n",
       "  'O',\n",
       "  'O',\n",
       "  'O',\n",
       "  'O',\n",
       "  'O',\n",
       "  'O',\n",
       "  'O',\n",
       "  'O',\n",
       "  'O',\n",
       "  'B-Verb',\n",
       "  'I-Verb',\n",
       "  'I-Verb',\n",
       "  'I-Verb',\n",
       "  'I-Verb',\n",
       "  'I-Verb',\n",
       "  'I-Verb',\n",
       "  'I-Verb',\n",
       "  'I-Verb',\n",
       "  'I-Verb',\n",
       "  'I-Verb',\n",
       "  'I-Verb',\n",
       "  'I-Verb',\n",
       "  'I-Verb',\n",
       "  'I-Verb',\n",
       "  'I-Verb',\n",
       "  'I-Verb',\n",
       "  'I-Verb',\n",
       "  'I-Verb',\n",
       "  'I-Verb',\n",
       "  'I-Verb',\n",
       "  'I-Verb',\n",
       "  'I-Verb',\n",
       "  'I-Verb',\n",
       "  'I-Verb',\n",
       "  'I-Verb',\n",
       "  'I-Verb',\n",
       "  'I-Verb',\n",
       "  'I-Verb',\n",
       "  'I-Verb',\n",
       "  'I-Verb',\n",
       "  'I-Verb',\n",
       "  'I-Verb',\n",
       "  'I-Verb',\n",
       "  'I-Verb',\n",
       "  'I-Verb',\n",
       "  'I-Verb',\n",
       "  'I-Verb',\n",
       "  'I-Verb',\n",
       "  'I-Verb',\n",
       "  'I-Verb',\n",
       "  'I-Verb',\n",
       "  'I-Verb',\n",
       "  'I-Verb',\n",
       "  'I-Verb',\n",
       "  'I-Verb',\n",
       "  'I-Verb',\n",
       "  'I-Verb',\n",
       "  'I-Verb',\n",
       "  'I-Verb',\n",
       "  'I-Verb',\n",
       "  'I-Verb',\n",
       "  'I-Verb',\n",
       "  'I-Verb',\n",
       "  'I-Verb',\n",
       "  'I-Verb',\n",
       "  'I-Verb',\n",
       "  'I-Verb',\n",
       "  'I-Verb',\n",
       "  'I-Verb',\n",
       "  'I-Verb',\n",
       "  'I-Verb',\n",
       "  'I-Verb',\n",
       "  'I-Verb',\n",
       "  'I-Verb',\n",
       "  'I-Verb',\n",
       "  'I-Verb',\n",
       "  'I-Verb',\n",
       "  'I-Verb',\n",
       "  'I-Verb',\n",
       "  'O',\n",
       "  'O',\n",
       "  'O',\n",
       "  'O',\n",
       "  'O',\n",
       "  'O',\n",
       "  'O',\n",
       "  'O',\n",
       "  'O',\n",
       "  'O',\n",
       "  'O',\n",
       "  'O',\n",
       "  'O',\n",
       "  'O',\n",
       "  'O',\n",
       "  'O',\n",
       "  'O',\n",
       "  'O',\n",
       "  'O',\n",
       "  'O',\n",
       "  'O',\n",
       "  'O',\n",
       "  'O',\n",
       "  'O',\n",
       "  'O',\n",
       "  'O',\n",
       "  'O',\n",
       "  'O',\n",
       "  'O',\n",
       "  'O',\n",
       "  'O',\n",
       "  'O',\n",
       "  'O',\n",
       "  'O',\n",
       "  'O',\n",
       "  'O',\n",
       "  'O',\n",
       "  'O',\n",
       "  'O',\n",
       "  'O',\n",
       "  'O',\n",
       "  'O',\n",
       "  'O',\n",
       "  'O',\n",
       "  'O',\n",
       "  'O',\n",
       "  'O']]"
      ]
     },
     "execution_count": 8,
     "metadata": {},
     "output_type": "execute_result"
    }
   ],
   "source": [
    "my_annotation"
   ]
  },
  {
   "cell_type": "markdown",
   "metadata": {},
   "source": [
    "If you expect to modify it, it is strongly recommended to do a deep copy of annotation.labels "
   ]
  },
  {
   "cell_type": "code",
   "execution_count": null,
   "metadata": {},
   "outputs": [],
   "source": [
    "from copy import deepcopy\n",
    "my_annotation = deepcopy(annotation.labels)"
   ]
  },
  {
   "cell_type": "markdown",
   "metadata": {},
   "source": [
    "## Final note"
   ]
  },
  {
   "cell_type": "markdown",
   "metadata": {},
   "source": [
    "At this point, you should have everything you need to start annotating. \n",
    "\n",
    "Bear in mind, that if you stumble upon more specific use cases, PyLighter offers more tools that is likely to respond to your need. You can read more about it in the README.md or in the Advanced usage demo. "
   ]
  }
 ],
 "metadata": {
  "kernelspec": {
   "display_name": "Python 3",
   "language": "python",
   "name": "python3"
  },
  "language_info": {
   "codemirror_mode": {
    "name": "ipython",
    "version": 3
   },
   "file_extension": ".py",
   "mimetype": "text/x-python",
   "name": "python",
   "nbconvert_exporter": "python",
   "pygments_lexer": "ipython3",
   "version": "3.7.10"
  }
 },
 "nbformat": 4,
 "nbformat_minor": 4
}
